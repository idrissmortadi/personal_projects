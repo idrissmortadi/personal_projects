{
  "nbformat": 4,
  "nbformat_minor": 0,
  "metadata": {
    "colab": {
      "name": "GAN.ipynb",
      "provenance": [],
      "collapsed_sections": [],
      "authorship_tag": "ABX9TyPe/X352VTIRNoiMe+CUYTA",
      "include_colab_link": true
    },
    "kernelspec": {
      "name": "python3",
      "display_name": "Python 3"
    },
    "language_info": {
      "name": "python"
    },
    "accelerator": "GPU"
  },
  "cells": [
    {
      "cell_type": "markdown",
      "metadata": {
        "id": "view-in-github",
        "colab_type": "text"
      },
      "source": [
        "<a href=\"https://colab.research.google.com/github/ids01x/personal_projects/blob/main/GAN.ipynb\" target=\"_parent\"><img src=\"https://colab.research.google.com/assets/colab-badge.svg\" alt=\"Open In Colab\"/></a>"
      ]
    },
    {
      "cell_type": "code",
      "execution_count": null,
      "metadata": {
        "colab": {
          "base_uri": "https://localhost:8080/"
        },
        "id": "Y9Jd_nlJA63s",
        "outputId": "dee0bad1-0c0f-4492-e822-91a31398bb69"
      },
      "outputs": [
        {
          "output_type": "stream",
          "name": "stdout",
          "text": [
            "Looking in indexes: https://pypi.org/simple, https://us-python.pkg.dev/colab-wheels/public/simple/\n",
            "Requirement already satisfied: imageio in /usr/local/lib/python3.7/dist-packages (2.4.1)\n",
            "Requirement already satisfied: numpy in /usr/local/lib/python3.7/dist-packages (from imageio) (1.21.6)\n",
            "Requirement already satisfied: pillow in /usr/local/lib/python3.7/dist-packages (from imageio) (7.1.2)\n",
            "Looking in indexes: https://pypi.org/simple, https://us-python.pkg.dev/colab-wheels/public/simple/\n",
            "Collecting git+https://github.com/tensorflow/docs\n",
            "  Cloning https://github.com/tensorflow/docs to /tmp/pip-req-build-0x2f9cb3\n",
            "  Running command git clone -q https://github.com/tensorflow/docs /tmp/pip-req-build-0x2f9cb3\n",
            "Requirement already satisfied: astor in /usr/local/lib/python3.7/dist-packages (from tensorflow-docs==0.0.0.dev0) (0.8.1)\n",
            "Requirement already satisfied: absl-py in /usr/local/lib/python3.7/dist-packages (from tensorflow-docs==0.0.0.dev0) (1.0.0)\n",
            "Requirement already satisfied: jinja2 in /usr/local/lib/python3.7/dist-packages (from tensorflow-docs==0.0.0.dev0) (2.11.3)\n",
            "Requirement already satisfied: protobuf<3.20,>=3.12.0 in /usr/local/lib/python3.7/dist-packages (from tensorflow-docs==0.0.0.dev0) (3.17.3)\n",
            "Requirement already satisfied: pyyaml in /usr/local/lib/python3.7/dist-packages (from tensorflow-docs==0.0.0.dev0) (3.13)\n",
            "Requirement already satisfied: six>=1.9 in /usr/local/lib/python3.7/dist-packages (from protobuf<3.20,>=3.12.0->tensorflow-docs==0.0.0.dev0) (1.15.0)\n",
            "Requirement already satisfied: MarkupSafe>=0.23 in /usr/local/lib/python3.7/dist-packages (from jinja2->tensorflow-docs==0.0.0.dev0) (2.0.1)\n",
            "Building wheels for collected packages: tensorflow-docs\n",
            "  Building wheel for tensorflow-docs (setup.py) ... \u001b[?25l\u001b[?25hdone\n",
            "  Created wheel for tensorflow-docs: filename=tensorflow_docs-0.0.0.dev0-py3-none-any.whl size=179884 sha256=e6e2386c5afbe281f42810dac17826ae49d43e655db18fb46e30b249bd194e6d\n",
            "  Stored in directory: /tmp/pip-ephem-wheel-cache-48hn0f1n/wheels/cc/c4/d8/5341e93b6376c5c929c49469fce21155eb69cef1a4da4ce32c\n",
            "Successfully built tensorflow-docs\n",
            "Installing collected packages: tensorflow-docs\n",
            "Successfully installed tensorflow-docs-0.0.0.dev0\n"
          ]
        }
      ],
      "source": [
        "import tensorflow as tf\n",
        "\n",
        "!pip install imageio\n",
        "!pip install git+https://github.com/tensorflow/docs\n"
      ]
    },
    {
      "cell_type": "code",
      "source": [
        "import glob\n",
        "import imageio\n",
        "import matplotlib.pyplot as plt\n",
        "import numpy as np\n",
        "\n",
        "import os\n",
        "import PIL\n",
        "from tensorflow.keras import layers\n",
        "import time\n",
        "\n",
        "from IPython import display"
      ],
      "metadata": {
        "id": "AQitFg41BtUB"
      },
      "execution_count": null,
      "outputs": []
    },
    {
      "cell_type": "code",
      "source": [
        "(train_images, train_labels), (_,_) = tf.keras.datasets.mnist.load_data()\n"
      ],
      "metadata": {
        "colab": {
          "base_uri": "https://localhost:8080/"
        },
        "id": "b7NPNWe0CDNw",
        "outputId": "7cb83d29-47d4-4640-e270-0f6560941d23"
      },
      "execution_count": null,
      "outputs": [
        {
          "output_type": "stream",
          "name": "stdout",
          "text": [
            "Downloading data from https://storage.googleapis.com/tensorflow/tf-keras-datasets/mnist.npz\n",
            "11493376/11490434 [==============================] - 0s 0us/step\n",
            "11501568/11490434 [==============================] - 0s 0us/step\n"
          ]
        }
      ]
    },
    {
      "cell_type": "code",
      "source": [
        "train_images = train_images.reshape(train_images.shape[0], 28, 28 ,1).astype('float32')\n",
        "train_images = (train_images - 127.5) / 127.5"
      ],
      "metadata": {
        "id": "GDSJcUi-CUn7"
      },
      "execution_count": null,
      "outputs": []
    },
    {
      "cell_type": "code",
      "source": [
        "BUFFER_SIZE = 60000\n",
        "BATCH_SIZE  = 256"
      ],
      "metadata": {
        "id": "y85SaEsAClv8"
      },
      "execution_count": null,
      "outputs": []
    },
    {
      "cell_type": "code",
      "source": [
        "train_dataset = tf.data.Dataset.from_tensor_slices(train_images).shuffle(BUFFER_SIZE).batch(BATCH_SIZE)"
      ],
      "metadata": {
        "id": "aNEwuSKsCqq7"
      },
      "execution_count": null,
      "outputs": []
    },
    {
      "cell_type": "code",
      "source": [
        "def make_generator_model():\n",
        "  model = tf.keras.Sequential()\n",
        "  model.add(layers.Dense(7*7*256, use_bias=False, input_shape=(100,)))\n",
        "  model.add(layers.BatchNormalization())\n",
        "  model.add(layers.LeakyReLU())\n",
        "\n",
        "  model.add(layers.Reshape((7, 7, 256)))\n",
        "  assert model.output_shape == (None, 7, 7, 256)  # Note: None is the batch size\n",
        "\n",
        "  model.add(layers.Conv2DTranspose(128,(5,5),strides=(1,1), padding='same', use_bias=False))\n",
        "  assert model.output_shape == (None, 7, 7, 128)\n",
        "  model.add(layers.BatchNormalization())\n",
        "  model.add(layers.LeakyReLU())\n",
        "\n",
        "  model.add(layers.Conv2DTranspose(64,(5,5),strides=(2,2), padding='same', use_bias=False))\n",
        "  assert model.output_shape == (None, 14, 14, 64)\n",
        "  model.add(layers.BatchNormalization())\n",
        "  model.add(layers.LeakyReLU())\n",
        "\n",
        "  model.add(layers.Conv2DTranspose(1,(  5,5),strides=(2,2), padding='same', use_bias=False,activation='tanh'))\n",
        "  assert model.output_shape == (None, 28, 28, 1)\n",
        "\n",
        "  return model"
      ],
      "metadata": {
        "id": "QqJxlW7cC4mq"
      },
      "execution_count": null,
      "outputs": []
    },
    {
      "cell_type": "code",
      "source": [
        "generator = make_generator_model()\n",
        "\n",
        "noise = tf.random.normal((1,100))\n",
        "generated_image = generator(noise, training=False)\n",
        "\n",
        "plt.imshow(generated_image[0,:,:,0], cmap='gray')"
      ],
      "metadata": {
        "colab": {
          "base_uri": "https://localhost:8080/",
          "height": 282
        },
        "id": "4_IrfsYHFQUd",
        "outputId": "20051520-2275-4805-e5b7-1d03c28b056c"
      },
      "execution_count": null,
      "outputs": [
        {
          "output_type": "execute_result",
          "data": {
            "text/plain": [
              "<matplotlib.image.AxesImage at 0x7f0570099990>"
            ]
          },
          "metadata": {},
          "execution_count": 8
        },
        {
          "output_type": "display_data",
          "data": {
            "text/plain": [
              "<Figure size 432x288 with 1 Axes>"
            ],
            "image/png": "[encoded data removed]"
          },
          "metadata": {
            "needs_background": "light"
          }
        }
      ]
    },
    {
      "cell_type": "code",
      "source": [
        "def make_discriminator_model():\n",
        "    model = tf.keras.Sequential()\n",
        "    model.add(layers.Conv2D(64, (5, 5), strides=(2, 2), padding='same',\n",
        "                                     input_shape=[28, 28, 1]))\n",
        "    model.add(layers.LeakyReLU())\n",
        "    model.add(layers.Dropout(0.3))\n",
        "\n",
        "    model.add(layers.Conv2D(128, (5, 5), strides=(2, 2), padding='same'))\n",
        "    model.add(layers.LeakyReLU())\n",
        "    model.add(layers.Dropout(0.3))\n",
        "\n",
        "    model.add(layers.Flatten())\n",
        "    model.add(layers.Dense(1))\n",
        "\n",
        "    return model"
      ],
      "metadata": {
        "id": "DP-sIUJoGMvd"
      },
      "execution_count": null,
      "outputs": []
    },
    {
      "cell_type": "code",
      "source": [
        "discriminator = make_discriminator_model()\n",
        "decision = discriminator(generated_image)\n",
        "print (decision)"
      ],
      "metadata": {
        "colab": {
          "base_uri": "https://localhost:8080/"
        },
        "id": "qNpYmJXEGUeh",
        "outputId": "89d8535d-ee6d-4da2-95cc-3a2a2c8b3256"
      },
      "execution_count": null,
      "outputs": [
        {
          "output_type": "stream",
          "name": "stdout",
          "text": [
            "tf.Tensor([[0.00052036]], shape=(1, 1), dtype=float32)\n"
          ]
        }
      ]
    },
    {
      "cell_type": "code",
      "source": [
        "cross_entropy = tf.keras.losses.BinaryCrossentropy(from_logits=True)"
      ],
      "metadata": {
        "id": "1EEhaIXoGfYZ"
      },
      "execution_count": null,
      "outputs": []
    },
    {
      "cell_type": "code",
      "source": [
        "def discriminator_loss(real_output,fake_output):\n",
        "  real_loss = cross_entropy(tf.ones_like(real_output),real_output)\n",
        "  fake_loss = cross_entropy(tf.zeros_like(fake_output),fake_output)\n",
        "  total_loss = real_loss+fake_loss\n",
        "  return total_loss\n",
        "\n",
        "def generator_loss(fake_output):\n",
        "    return cross_entropy(tf.ones_like(fake_output), fake_output)"
      ],
      "metadata": {
        "id": "GQ1DLQF6Gtt5"
      },
      "execution_count": null,
      "outputs": []
    },
    {
      "cell_type": "code",
      "source": [
        "generator_optimizer = tf.keras.optimizers.Adam(1e-4)\n",
        "discriminator_optimizer = tf.keras.optimizers.Adam(1e-4)\n",
        "\n",
        "checkpoint_dir = './training_checkpoints'\n",
        "checkpoint_prefix = os.path.join(checkpoint_dir, \"ckpt\")\n",
        "checkpoint = tf.train.Checkpoint(generator_optimizer=generator_optimizer,\n",
        "                                 discriminator_optimizer=discriminator_optimizer,\n",
        "                                 generator=generator,\n",
        "                                 discriminator=discriminator)"
      ],
      "metadata": {
        "id": "k5DhN_2THGzN"
      },
      "execution_count": null,
      "outputs": []
    },
    {
      "cell_type": "code",
      "source": [
        "EPOCHS = 50\n",
        "noise_dim = 100\n",
        "num_examples_to_generate = 16\n",
        "\n",
        "seed = tf.random.normal([num_examples_to_generate, noise_dim])"
      ],
      "metadata": {
        "id": "jY6O70ekHmdK"
      },
      "execution_count": null,
      "outputs": []
    },
    {
      "cell_type": "code",
      "source": [
        "def generate_and_save_images(model, epoch, test_input):\n",
        "  # Notice `training` is set to False.\n",
        "  # This is so all layers run in inference mode (batchnorm).\n",
        "  predictions = model(test_input, training=False)\n",
        "\n",
        "  fig = plt.figure(figsize=(4, 4))\n",
        "\n",
        "  for i in range(predictions.shape[0]):\n",
        "      plt.subplot(4, 4, i+1)\n",
        "      plt.imshow(predictions[i, :, :, 0] * 127.5 + 127.5, cmap='gray')\n",
        "      plt.axis('off')\n",
        "\n",
        "  plt.savefig('image_at_epoch_{:04d}.png'.format(epoch))\n",
        "  plt.show()"
      ],
      "metadata": {
        "id": "t0faBCyMJ7Kj"
      },
      "execution_count": null,
      "outputs": []
    },
    {
      "cell_type": "code",
      "source": [
        "# Notice the use of `tf.function`\n",
        "# This annotation causes the function to be \"compiled\".\n",
        "@tf.function\n",
        "def train_step(images):\n",
        "    noise = tf.random.normal([BATCH_SIZE, noise_dim])\n",
        "\n",
        "    with tf.GradientTape() as gen_tape, tf.GradientTape() as disc_tape:\n",
        "      generated_images = generator(noise, training=True)\n",
        "\n",
        "      real_output = discriminator(images, training=True)\n",
        "      fake_output = discriminator(generated_images, training=True)\n",
        "\n",
        "      gen_loss = generator_loss(fake_output)\n",
        "      disc_loss = discriminator_loss(real_output, fake_output)\n",
        "\n",
        "    h  = (gen_loss,disc_loss)\n",
        "    gradients_of_generator = gen_tape.gradient(gen_loss, generator.trainable_variables)\n",
        "    gradients_of_discriminator = disc_tape.gradient(disc_loss, discriminator.trainable_variables)\n",
        "\n",
        "    generator_optimizer.apply_gradients(zip(gradients_of_generator, generator.trainable_variables))\n",
        "    discriminator_optimizer.apply_gradients(zip(gradients_of_discriminator, discriminator.trainable_variables))\n",
        "\n",
        "    return h\n",
        "\n",
        "def train(dataset, epochs):\n",
        "  for epoch in range(epochs):\n",
        "    start = time.time()\n",
        "    H = []\n",
        "\n",
        "    for image_batch in dataset:\n",
        "      h = train_step(image_batch)\n",
        "      H.append(h)\n",
        "\n",
        "    display.clear_output(wait=True)\n",
        "    generate_and_save_images(generator,\n",
        "                             epoch + 1,\n",
        "                             seed)\n",
        "\n",
        "    # Save the model every 15 epochs\n",
        "    if (epoch + 1) % 15 == 0:\n",
        "      checkpoint.save(file_prefix = checkpoint_prefix)\n",
        "\n",
        "    print ('Time for epoch {} is {} sec'.format(epoch + 1, time.time()-start))\n",
        "    print(\"losses: \",H)\n",
        "\n",
        "  # Generate after the final epoch\n",
        "  display.clear_output(wait=True)\n",
        "  generate_and_save_images(generator,\n",
        "                           epochs,\n",
        "                           seed)\n"
      ],
      "metadata": {
        "id": "YdvNEn_PH4Lh"
      },
      "execution_count": null,
      "outputs": []
    },
    {
      "cell_type": "code",
      "source": [
        "train(train_dataset, EPOCHS)"
      ],
      "metadata": {
        "colab": {
          "base_uri": "https://localhost:8080/",
          "height": 597
        },
        "id": "HgbHz0FyKFlq",
        "outputId": "924cb8e7-f96f-4dfa-b251-82ef82e573b6"
      },
      "execution_count": null,
      "outputs": [
        {
          "output_type": "display_data",
          "data": {
            "text/plain": [
              "<Figure size 288x288 with 16 Axes>"
            ],
            "image/png": "[encoded data removed]"
          },
          "metadata": {
            "needs_background": "light"
          }
        },
        {
          "output_type": "stream",
          "name": "stdout",
          "text": [
            "Time for epoch 2 is 14.855067729949951 sec\n",
            "losses:  [(<tf.Tensor: shape=(), dtype=float32, numpy=1.0189995>, <tf.Tensor: shape=(), dtype=float32, numpy=1.1404912>), (<tf.Tensor: shape=(), dtype=float32, numpy=1.0019714>, <tf.Tensor: shape=(), dtype=float32, numpy=1.1299423>), (<tf.Tensor: shape=(), dtype=float32, numpy=0.87931037>, <tf.Tensor: shape=(), dtype=float32, numpy=1.1600857>), (<tf.Tensor: shape=(), dtype=float32, numpy=0.92462826>, <tf.Tensor: shape=(), dtype=float32, numpy=1.1186585>), (<tf.Tensor: shape=(), dtype=float32, numpy=0.9714725>, <tf.Tensor: shape=(), dtype=float32, numpy=1.1736872>), (<tf.Tensor: shape=(), dtype=float32, numpy=1.1048044>, <tf.Tensor: shape=(), dtype=float32, numpy=1.0640297>), (<tf.Tensor: shape=(), dtype=float32, numpy=1.1056973>, <tf.Tensor: shape=(), dtype=float32, numpy=1.1031206>), (<tf.Tensor: shape=(), dtype=float32, numpy=0.99300563>, <tf.Tensor: shape=(), dtype=float32, numpy=1.103059>), (<tf.Tensor: shape=(), dtype=float32, numpy=0.9250116>, <tf.Tensor: shape=(), dtype=float32, numpy=1.1150639>), (<tf.Tensor: shape=(), dtype=float32, numpy=0.94157535>, <tf.Tensor: shape=(), dtype=float32, numpy=1.1425447>), (<tf.Tensor: shape=(), dtype=float32, numpy=0.9397768>, <tf.Tensor: shape=(), dtype=float32, numpy=1.1095736>), (<tf.Tensor: shape=(), dtype=float32, numpy=0.99685603>, <tf.Tensor: shape=(), dtype=float32, numpy=1.1551261>), (<tf.Tensor: shape=(), dtype=float32, numpy=1.0282125>, <tf.Tensor: shape=(), dtype=float32, numpy=1.0974729>), (<tf.Tensor: shape=(), dtype=float32, numpy=1.04586>, <tf.Tensor: shape=(), dtype=float32, numpy=1.1682132>), (<tf.Tensor: shape=(), dtype=float32, numpy=0.972834>, <tf.Tensor: shape=(), dtype=float32, numpy=1.173944>), (<tf.Tensor: shape=(), dtype=float32, numpy=0.8700963>, <tf.Tensor: shape=(), dtype=float32, numpy=1.2177545>), (<tf.Tensor: shape=(), dtype=float32, numpy=0.8399758>, <tf.Tensor: shape=(), dtype=float32, numpy=1.1568505>), (<tf.Tensor: shape=(), dtype=float32, numpy=0.94483465>, <tf.Tensor: shape=(), dtype=float32, numpy=1.2080152>), (<tf.Tensor: shape=(), dtype=float32, numpy=0.99401724>, <tf.Tensor: shape=(), dtype=float32, numpy=1.2110069>), (<tf.Tensor: shape=(), dtype=float32, numpy=1.0435864>, <tf.Tensor: shape=(), dtype=float32, numpy=1.2532116>), (<tf.Tensor: shape=(), dtype=float32, numpy=0.98567694>, <tf.Tensor: shape=(), dtype=float32, numpy=1.1681802>), (<tf.Tensor: shape=(), dtype=float32, numpy=0.8383714>, <tf.Tensor: shape=(), dtype=float32, numpy=1.1876693>), (<tf.Tensor: shape=(), dtype=float32, numpy=0.8480761>, <tf.Tensor: shape=(), dtype=float32, numpy=1.2279806>), (<tf.Tensor: shape=(), dtype=float32, numpy=0.8801457>, <tf.Tensor: shape=(), dtype=float32, numpy=1.2256448>), (<tf.Tensor: shape=(), dtype=float32, numpy=0.94549143>, <tf.Tensor: shape=(), dtype=float32, numpy=1.2425294>), (<tf.Tensor: shape=(), dtype=float32, numpy=0.93651354>, <tf.Tensor: shape=(), dtype=float32, numpy=1.2384028>), (<tf.Tensor: shape=(), dtype=float32, numpy=0.9848615>, <tf.Tensor: shape=(), dtype=float32, numpy=1.200664>), (<tf.Tensor: shape=(), dtype=float32, numpy=0.91599214>, <tf.Tensor: shape=(), dtype=float32, numpy=1.2620063>), (<tf.Tensor: shape=(), dtype=float32, numpy=0.8910503>, <tf.Tensor: shape=(), dtype=float32, numpy=1.1802496>), (<tf.Tensor: shape=(), dtype=float32, numpy=0.8277257>, <tf.Tensor: shape=(), dtype=float32, numpy=1.2584968>), (<tf.Tensor: shape=(), dtype=float32, numpy=0.88879716>, <tf.Tensor: shape=(), dtype=float32, numpy=1.1851029>), (<tf.Tensor: shape=(), dtype=float32, numpy=0.919797>, <tf.Tensor: shape=(), dtype=float32, numpy=1.210015>), (<tf.Tensor: shape=(), dtype=float32, numpy=0.9541267>, <tf.Tensor: shape=(), dtype=float32, numpy=1.2596246>), (<tf.Tensor: shape=(), dtype=float32, numpy=0.98445976>, <tf.Tensor: shape=(), dtype=float32, numpy=1.2203672>), (<tf.Tensor: shape=(), dtype=float32, numpy=0.98862684>, <tf.Tensor: shape=(), dtype=float32, numpy=1.2145216>), (<tf.Tensor: shape=(), dtype=float32, numpy=0.849402>, <tf.Tensor: shape=(), dtype=float32, numpy=1.2167649>), (<tf.Tensor: shape=(), dtype=float32, numpy=0.86563796>, <tf.Tensor: shape=(), dtype=float32, numpy=1.2372613>), (<tf.Tensor: shape=(), dtype=float32, numpy=0.8824997>, <tf.Tensor: shape=(), dtype=float32, numpy=1.2017825>), (<tf.Tensor: shape=(), dtype=float32, numpy=0.9339076>, <tf.Tensor: shape=(), dtype=float32, numpy=1.2569606>), (<tf.Tensor: shape=(), dtype=float32, numpy=0.96801156>, <tf.Tensor: shape=(), dtype=float32, numpy=1.2138777>), (<tf.Tensor: shape=(), dtype=float32, numpy=0.9480004>, <tf.Tensor: shape=(), dtype=float32, numpy=1.1972227>), (<tf.Tensor: shape=(), dtype=float32, numpy=0.9178061>, <tf.Tensor: shape=(), dtype=float32, numpy=1.2121649>), (<tf.Tensor: shape=(), dtype=float32, numpy=0.8785659>, <tf.Tensor: shape=(), dtype=float32, numpy=1.2349677>), (<tf.Tensor: shape=(), dtype=float32, numpy=0.8961125>, <tf.Tensor: shape=(), dtype=float32, numpy=1.2010667>), (<tf.Tensor: shape=(), dtype=float32, numpy=0.9170157>, <tf.Tensor: shape=(), dtype=float32, numpy=1.2092433>), (<tf.Tensor: shape=(), dtype=float32, numpy=0.94748163>, <tf.Tensor: shape=(), dtype=float32, numpy=1.2931314>), (<tf.Tensor: shape=(), dtype=float32, numpy=1.0174823>, <tf.Tensor: shape=(), dtype=float32, numpy=1.2861652>), (<tf.Tensor: shape=(), dtype=float32, numpy=0.9549881>, <tf.Tensor: shape=(), dtype=float32, numpy=1.2598222>), (<tf.Tensor: shape=(), dtype=float32, numpy=0.83170277>, <tf.Tensor: shape=(), dtype=float32, numpy=1.2870303>), (<tf.Tensor: shape=(), dtype=float32, numpy=0.8591891>, <tf.Tensor: shape=(), dtype=float32, numpy=1.2993636>), (<tf.Tensor: shape=(), dtype=float32, numpy=0.8995256>, <tf.Tensor: shape=(), dtype=float32, numpy=1.2003074>), (<tf.Tensor: shape=(), dtype=float32, numpy=0.9824049>, <tf.Tensor: shape=(), dtype=float32, numpy=1.2127018>), (<tf.Tensor: shape=(), dtype=float32, numpy=0.9709163>, <tf.Tensor: shape=(), dtype=float32, numpy=1.2288731>), (<tf.Tensor: shape=(), dtype=float32, numpy=0.94699657>, <tf.Tensor: shape=(), dtype=float32, numpy=1.3350866>), (<tf.Tensor: shape=(), dtype=float32, numpy=0.97817355>, <tf.Tensor: shape=(), dtype=float32, numpy=1.221802>), (<tf.Tensor: shape=(), dtype=float32, numpy=0.9068689>, <tf.Tensor: shape=(), dtype=float32, numpy=1.2794905>), (<tf.Tensor: shape=(), dtype=float32, numpy=0.9106885>, <tf.Tensor: shape=(), dtype=float32, numpy=1.2478321>), (<tf.Tensor: shape=(), dtype=float32, numpy=0.9133648>, <tf.Tensor: shape=(), dtype=float32, numpy=1.3111496>), (<tf.Tensor: shape=(), dtype=float32, numpy=0.95228344>, <tf.Tensor: shape=(), dtype=float32, numpy=1.2417555>), (<tf.Tensor: shape=(), dtype=float32, numpy=0.9932935>, <tf.Tensor: shape=(), dtype=float32, numpy=1.2982221>), (<tf.Tensor: shape=(), dtype=float32, numpy=0.98981893>, <tf.Tensor: shape=(), dtype=float32, numpy=1.275497>), (<tf.Tensor: shape=(), dtype=float32, numpy=0.9740796>, <tf.Tensor: shape=(), dtype=float32, numpy=1.2770483>), (<tf.Tensor: shape=(), dtype=float32, numpy=0.89235926>, <tf.Tensor: shape=(), dtype=float32, numpy=1.3017156>), (<tf.Tensor: shape=(), dtype=float32, numpy=0.86647016>, <tf.Tensor: shape=(), dtype=float32, numpy=1.2749716>), (<tf.Tensor: shape=(), dtype=float32, numpy=0.81806797>, <tf.Tensor: shape=(), dtype=float32, numpy=1.3473874>), (<tf.Tensor: shape=(), dtype=float32, numpy=0.9399425>, <tf.Tensor: shape=(), dtype=float32, numpy=1.323278>), (<tf.Tensor: shape=(), dtype=float32, numpy=0.99976027>, <tf.Tensor: shape=(), dtype=float32, numpy=1.3534577>), (<tf.Tensor: shape=(), dtype=float32, numpy=0.9786861>, <tf.Tensor: shape=(), dtype=float32, numpy=1.3266903>), (<tf.Tensor: shape=(), dtype=float32, numpy=0.86113733>, <tf.Tensor: shape=(), dtype=float32, numpy=1.3226885>), (<tf.Tensor: shape=(), dtype=float32, numpy=0.7990241>, <tf.Tensor: shape=(), dtype=float32, numpy=1.2509756>), (<tf.Tensor: shape=(), dtype=float32, numpy=0.8614422>, <tf.Tensor: shape=(), dtype=float32, numpy=1.3064774>), (<tf.Tensor: shape=(), dtype=float32, numpy=0.90643716>, <tf.Tensor: shape=(), dtype=float32, numpy=1.3474951>), (<tf.Tensor: shape=(), dtype=float32, numpy=1.0095568>, <tf.Tensor: shape=(), dtype=float32, numpy=1.3053763>), (<tf.Tensor: shape=(), dtype=float32, numpy=0.9734167>, <tf.Tensor: shape=(), dtype=float32, numpy=1.3249359>), (<tf.Tensor: shape=(), dtype=float32, numpy=0.985134>, <tf.Tensor: shape=(), dtype=float32, numpy=1.3453217>), (<tf.Tensor: shape=(), dtype=float32, numpy=0.9151202>, <tf.Tensor: shape=(), dtype=float32, numpy=1.2486926>), (<tf.Tensor: shape=(), dtype=float32, numpy=0.77873117>, <tf.Tensor: shape=(), dtype=float32, numpy=1.3251438>), (<tf.Tensor: shape=(), dtype=float32, numpy=0.84344006>, <tf.Tensor: shape=(), dtype=float32, numpy=1.2980014>), (<tf.Tensor: shape=(), dtype=float32, numpy=1.0249363>, <tf.Tensor: shape=(), dtype=float32, numpy=1.265701>), (<tf.Tensor: shape=(), dtype=float32, numpy=1.0316197>, <tf.Tensor: shape=(), dtype=float32, numpy=1.2611003>), (<tf.Tensor: shape=(), dtype=float32, numpy=1.0035872>, <tf.Tensor: shape=(), dtype=float32, numpy=1.3254471>), (<tf.Tensor: shape=(), dtype=float32, numpy=0.96607983>, <tf.Tensor: shape=(), dtype=float32, numpy=1.2035952>), (<tf.Tensor: shape=(), dtype=float32, numpy=0.8863808>, <tf.Tensor: shape=(), dtype=float32, numpy=1.2770586>), (<tf.Tensor: shape=(), dtype=float32, numpy=0.87114245>, <tf.Tensor: shape=(), dtype=float32, numpy=1.2476842>), (<tf.Tensor: shape=(), dtype=float32, numpy=0.89488816>, <tf.Tensor: shape=(), dtype=float32, numpy=1.2321384>), (<tf.Tensor: shape=(), dtype=float32, numpy=0.95324594>, <tf.Tensor: shape=(), dtype=float32, numpy=1.2700837>), (<tf.Tensor: shape=(), dtype=float32, numpy=1.0749816>, <tf.Tensor: shape=(), dtype=float32, numpy=1.2724884>), (<tf.Tensor: shape=(), dtype=float32, numpy=1.038545>, <tf.Tensor: shape=(), dtype=float32, numpy=1.201322>), (<tf.Tensor: shape=(), dtype=float32, numpy=0.9901524>, <tf.Tensor: shape=(), dtype=float32, numpy=1.1891149>), (<tf.Tensor: shape=(), dtype=float32, numpy=0.89815223>, <tf.Tensor: shape=(), dtype=float32, numpy=1.205472>), (<tf.Tensor: shape=(), dtype=float32, numpy=0.9227342>, <tf.Tensor: shape=(), dtype=float32, numpy=1.1960411>), (<tf.Tensor: shape=(), dtype=float32, numpy=0.9889096>, <tf.Tensor: shape=(), dtype=float32, numpy=1.1824806>), (<tf.Tensor: shape=(), dtype=float32, numpy=1.0029476>, <tf.Tensor: shape=(), dtype=float32, numpy=1.2760584>), (<tf.Tensor: shape=(), dtype=float32, numpy=1.0309142>, <tf.Tensor: shape=(), dtype=float32, numpy=1.226435>), (<tf.Tensor: shape=(), dtype=float32, numpy=0.9377723>, <tf.Tensor: shape=(), dtype=float32, numpy=1.2395337>), (<tf.Tensor: shape=(), dtype=float32, numpy=0.8582603>, <tf.Tensor: shape=(), dtype=float32, numpy=1.2306695>), (<tf.Tensor: shape=(), dtype=float32, numpy=0.9200862>, <tf.Tensor: shape=(), dtype=float32, numpy=1.1836672>), (<tf.Tensor: shape=(), dtype=float32, numpy=0.89998615>, <tf.Tensor: shape=(), dtype=float32, numpy=1.1648979>), (<tf.Tensor: shape=(), dtype=float32, numpy=1.0106152>, <tf.Tensor: shape=(), dtype=float32, numpy=1.153982>), (<tf.Tensor: shape=(), dtype=float32, numpy=1.033232>, <tf.Tensor: shape=(), dtype=float32, numpy=1.1935618>), (<tf.Tensor: shape=(), dtype=float32, numpy=1.0468866>, <tf.Tensor: shape=(), dtype=float32, numpy=1.1814315>), (<tf.Tensor: shape=(), dtype=float32, numpy=1.0094914>, <tf.Tensor: shape=(), dtype=float32, numpy=1.1910973>), (<tf.Tensor: shape=(), dtype=float32, numpy=0.89556164>, <tf.Tensor: shape=(), dtype=float32, numpy=1.1543219>), (<tf.Tensor: shape=(), dtype=float32, numpy=0.86128116>, <tf.Tensor: shape=(), dtype=float32, numpy=1.1503954>), (<tf.Tensor: shape=(), dtype=float32, numpy=0.9010303>, <tf.Tensor: shape=(), dtype=float32, numpy=1.1474167>), (<tf.Tensor: shape=(), dtype=float32, numpy=1.079906>, <tf.Tensor: shape=(), dtype=float32, numpy=1.1345673>), (<tf.Tensor: shape=(), dtype=float32, numpy=1.133585>, <tf.Tensor: shape=(), dtype=float32, numpy=1.1487848>), (<tf.Tensor: shape=(), dtype=float32, numpy=1.0497848>, <tf.Tensor: shape=(), dtype=float32, numpy=1.2241759>), (<tf.Tensor: shape=(), dtype=float32, numpy=0.9022488>, <tf.Tensor: shape=(), dtype=float32, numpy=1.150485>), (<tf.Tensor: shape=(), dtype=float32, numpy=0.89730966>, <tf.Tensor: shape=(), dtype=float32, numpy=1.1646194>), (<tf.Tensor: shape=(), dtype=float32, numpy=0.84002656>, <tf.Tensor: shape=(), dtype=float32, numpy=1.2085924>), (<tf.Tensor: shape=(), dtype=float32, numpy=0.9446422>, <tf.Tensor: shape=(), dtype=float32, numpy=1.1319296>), (<tf.Tensor: shape=(), dtype=float32, numpy=1.0036076>, <tf.Tensor: shape=(), dtype=float32, numpy=1.1913195>), (<tf.Tensor: shape=(), dtype=float32, numpy=1.0649843>, <tf.Tensor: shape=(), dtype=float32, numpy=1.1562283>), (<tf.Tensor: shape=(), dtype=float32, numpy=1.0059773>, <tf.Tensor: shape=(), dtype=float32, numpy=1.2117106>), (<tf.Tensor: shape=(), dtype=float32, numpy=0.9952709>, <tf.Tensor: shape=(), dtype=float32, numpy=1.1701844>), (<tf.Tensor: shape=(), dtype=float32, numpy=0.9260334>, <tf.Tensor: shape=(), dtype=float32, numpy=1.1330119>), (<tf.Tensor: shape=(), dtype=float32, numpy=0.85990363>, <tf.Tensor: shape=(), dtype=float32, numpy=1.1798573>), (<tf.Tensor: shape=(), dtype=float32, numpy=0.93329835>, <tf.Tensor: shape=(), dtype=float32, numpy=1.1676333>), (<tf.Tensor: shape=(), dtype=float32, numpy=1.0016391>, <tf.Tensor: shape=(), dtype=float32, numpy=1.1014421>), (<tf.Tensor: shape=(), dtype=float32, numpy=1.0028878>, <tf.Tensor: shape=(), dtype=float32, numpy=1.1569513>), (<tf.Tensor: shape=(), dtype=float32, numpy=1.0226494>, <tf.Tensor: shape=(), dtype=float32, numpy=1.133106>), (<tf.Tensor: shape=(), dtype=float32, numpy=0.9556457>, <tf.Tensor: shape=(), dtype=float32, numpy=1.189529>), (<tf.Tensor: shape=(), dtype=float32, numpy=0.9872282>, <tf.Tensor: shape=(), dtype=float32, numpy=1.1776197>), (<tf.Tensor: shape=(), dtype=float32, numpy=0.9762924>, <tf.Tensor: shape=(), dtype=float32, numpy=1.1353726>), (<tf.Tensor: shape=(), dtype=float32, numpy=0.9809843>, <tf.Tensor: shape=(), dtype=float32, numpy=1.1398032>), (<tf.Tensor: shape=(), dtype=float32, numpy=0.94971836>, <tf.Tensor: shape=(), dtype=float32, numpy=1.1048651>), (<tf.Tensor: shape=(), dtype=float32, numpy=0.95448816>, <tf.Tensor: shape=(), dtype=float32, numpy=1.1476017>), (<tf.Tensor: shape=(), dtype=float32, numpy=1.0657198>, <tf.Tensor: shape=(), dtype=float32, numpy=1.1114423>), (<tf.Tensor: shape=(), dtype=float32, numpy=1.0061924>, <tf.Tensor: shape=(), dtype=float32, numpy=1.1732187>), (<tf.Tensor: shape=(), dtype=float32, numpy=1.0207542>, <tf.Tensor: shape=(), dtype=float32, numpy=1.1300535>), (<tf.Tensor: shape=(), dtype=float32, numpy=0.92146343>, <tf.Tensor: shape=(), dtype=float32, numpy=1.2049998>), (<tf.Tensor: shape=(), dtype=float32, numpy=0.9494824>, <tf.Tensor: shape=(), dtype=float32, numpy=1.1214833>), (<tf.Tensor: shape=(), dtype=float32, numpy=1.0357836>, <tf.Tensor: shape=(), dtype=float32, numpy=1.0587376>), (<tf.Tensor: shape=(), dtype=float32, numpy=0.9819056>, <tf.Tensor: shape=(), dtype=float32, numpy=1.1870766>), (<tf.Tensor: shape=(), dtype=float32, numpy=1.0265781>, <tf.Tensor: shape=(), dtype=float32, numpy=1.1633828>), (<tf.Tensor: shape=(), dtype=float32, numpy=0.955779>, <tf.Tensor: shape=(), dtype=float32, numpy=1.2231917>), (<tf.Tensor: shape=(), dtype=float32, numpy=1.0221415>, <tf.Tensor: shape=(), dtype=float32, numpy=1.0883611>), (<tf.Tensor: shape=(), dtype=float32, numpy=1.0831931>, <tf.Tensor: shape=(), dtype=float32, numpy=1.0849183>), (<tf.Tensor: shape=(), dtype=float32, numpy=1.0012183>, <tf.Tensor: shape=(), dtype=float32, numpy=1.1646626>), (<tf.Tensor: shape=(), dtype=float32, numpy=1.0171481>, <tf.Tensor: shape=(), dtype=float32, numpy=1.1640778>), (<tf.Tensor: shape=(), dtype=float32, numpy=0.98142505>, <tf.Tensor: shape=(), dtype=float32, numpy=1.1924216>), (<tf.Tensor: shape=(), dtype=float32, numpy=1.0218577>, <tf.Tensor: shape=(), dtype=float32, numpy=1.1907976>), (<tf.Tensor: shape=(), dtype=float32, numpy=1.0197018>, <tf.Tensor: shape=(), dtype=float32, numpy=1.1678385>), (<tf.Tensor: shape=(), dtype=float32, numpy=0.9836229>, <tf.Tensor: shape=(), dtype=float32, numpy=1.185789>), (<tf.Tensor: shape=(), dtype=float32, numpy=0.93225425>, <tf.Tensor: shape=(), dtype=float32, numpy=1.2399542>), (<tf.Tensor: shape=(), dtype=float32, numpy=1.0472045>, <tf.Tensor: shape=(), dtype=float32, numpy=1.2080355>), (<tf.Tensor: shape=(), dtype=float32, numpy=1.0464736>, <tf.Tensor: shape=(), dtype=float32, numpy=1.2425351>), (<tf.Tensor: shape=(), dtype=float32, numpy=0.9955286>, <tf.Tensor: shape=(), dtype=float32, numpy=1.2425586>), (<tf.Tensor: shape=(), dtype=float32, numpy=1.0050465>, <tf.Tensor: shape=(), dtype=float32, numpy=1.254698>), (<tf.Tensor: shape=(), dtype=float32, numpy=0.94183666>, <tf.Tensor: shape=(), dtype=float32, numpy=1.2075717>), (<tf.Tensor: shape=(), dtype=float32, numpy=0.9427276>, <tf.Tensor: shape=(), dtype=float32, numpy=1.2822167>), (<tf.Tensor: shape=(), dtype=float32, numpy=1.0027722>, <tf.Tensor: shape=(), dtype=float32, numpy=1.3286585>), (<tf.Tensor: shape=(), dtype=float32, numpy=0.9341018>, <tf.Tensor: shape=(), dtype=float32, numpy=1.3178105>), (<tf.Tensor: shape=(), dtype=float32, numpy=0.95199615>, <tf.Tensor: shape=(), dtype=float32, numpy=1.3146456>), (<tf.Tensor: shape=(), dtype=float32, numpy=0.9294424>, <tf.Tensor: shape=(), dtype=float32, numpy=1.2698436>), (<tf.Tensor: shape=(), dtype=float32, numpy=0.9641208>, <tf.Tensor: shape=(), dtype=float32, numpy=1.3442721>), (<tf.Tensor: shape=(), dtype=float32, numpy=0.8750463>, <tf.Tensor: shape=(), dtype=float32, numpy=1.3546709>), (<tf.Tensor: shape=(), dtype=float32, numpy=0.9285>, <tf.Tensor: shape=(), dtype=float32, numpy=1.3414111>), (<tf.Tensor: shape=(), dtype=float32, numpy=0.95469683>, <tf.Tensor: shape=(), dtype=float32, numpy=1.4474277>), (<tf.Tensor: shape=(), dtype=float32, numpy=1.0094371>, <tf.Tensor: shape=(), dtype=float32, numpy=1.3551252>), (<tf.Tensor: shape=(), dtype=float32, numpy=0.8812318>, <tf.Tensor: shape=(), dtype=float32, numpy=1.3606211>), (<tf.Tensor: shape=(), dtype=float32, numpy=0.8062121>, <tf.Tensor: shape=(), dtype=float32, numpy=1.4003837>), (<tf.Tensor: shape=(), dtype=float32, numpy=0.8376875>, <tf.Tensor: shape=(), dtype=float32, numpy=1.4061537>), (<tf.Tensor: shape=(), dtype=float32, numpy=0.90363026>, <tf.Tensor: shape=(), dtype=float32, numpy=1.358562>), (<tf.Tensor: shape=(), dtype=float32, numpy=0.96167684>, <tf.Tensor: shape=(), dtype=float32, numpy=1.3361974>), (<tf.Tensor: shape=(), dtype=float32, numpy=0.9556992>, <tf.Tensor: shape=(), dtype=float32, numpy=1.3538587>), (<tf.Tensor: shape=(), dtype=float32, numpy=0.96093345>, <tf.Tensor: shape=(), dtype=float32, numpy=1.3548622>), (<tf.Tensor: shape=(), dtype=float32, numpy=0.85991335>, <tf.Tensor: shape=(), dtype=float32, numpy=1.3675408>), (<tf.Tensor: shape=(), dtype=float32, numpy=0.83980924>, <tf.Tensor: shape=(), dtype=float32, numpy=1.3137064>), (<tf.Tensor: shape=(), dtype=float32, numpy=0.8229511>, <tf.Tensor: shape=(), dtype=float32, numpy=1.3368999>), (<tf.Tensor: shape=(), dtype=float32, numpy=0.94430655>, <tf.Tensor: shape=(), dtype=float32, numpy=1.3060458>), (<tf.Tensor: shape=(), dtype=float32, numpy=0.9788181>, <tf.Tensor: shape=(), dtype=float32, numpy=1.3767592>), (<tf.Tensor: shape=(), dtype=float32, numpy=0.98089474>, <tf.Tensor: shape=(), dtype=float32, numpy=1.2914004>), (<tf.Tensor: shape=(), dtype=float32, numpy=0.8853655>, <tf.Tensor: shape=(), dtype=float32, numpy=1.2650265>), (<tf.Tensor: shape=(), dtype=float32, numpy=0.82554656>, <tf.Tensor: shape=(), dtype=float32, numpy=1.3561778>), (<tf.Tensor: shape=(), dtype=float32, numpy=0.8704131>, <tf.Tensor: shape=(), dtype=float32, numpy=1.2711334>), (<tf.Tensor: shape=(), dtype=float32, numpy=0.9624055>, <tf.Tensor: shape=(), dtype=float32, numpy=1.2460613>), (<tf.Tensor: shape=(), dtype=float32, numpy=0.9879378>, <tf.Tensor: shape=(), dtype=float32, numpy=1.2612876>), (<tf.Tensor: shape=(), dtype=float32, numpy=1.0767996>, <tf.Tensor: shape=(), dtype=float32, numpy=1.2461457>), (<tf.Tensor: shape=(), dtype=float32, numpy=0.9522807>, <tf.Tensor: shape=(), dtype=float32, numpy=1.2693009>), (<tf.Tensor: shape=(), dtype=float32, numpy=0.91028196>, <tf.Tensor: shape=(), dtype=float32, numpy=1.205162>), (<tf.Tensor: shape=(), dtype=float32, numpy=0.8804841>, <tf.Tensor: shape=(), dtype=float32, numpy=1.2662412>), (<tf.Tensor: shape=(), dtype=float32, numpy=0.91901517>, <tf.Tensor: shape=(), dtype=float32, numpy=1.2221038>), (<tf.Tensor: shape=(), dtype=float32, numpy=0.9182929>, <tf.Tensor: shape=(), dtype=float32, numpy=1.2234378>), (<tf.Tensor: shape=(), dtype=float32, numpy=0.9579413>, <tf.Tensor: shape=(), dtype=float32, numpy=1.2359836>), (<tf.Tensor: shape=(), dtype=float32, numpy=0.957354>, <tf.Tensor: shape=(), dtype=float32, numpy=1.2918185>), (<tf.Tensor: shape=(), dtype=float32, numpy=0.99290943>, <tf.Tensor: shape=(), dtype=float32, numpy=1.2479649>), (<tf.Tensor: shape=(), dtype=float32, numpy=0.9206625>, <tf.Tensor: shape=(), dtype=float32, numpy=1.2140002>), (<tf.Tensor: shape=(), dtype=float32, numpy=0.9382032>, <tf.Tensor: shape=(), dtype=float32, numpy=1.234848>), (<tf.Tensor: shape=(), dtype=float32, numpy=0.83303523>, <tf.Tensor: shape=(), dtype=float32, numpy=1.2756462>), (<tf.Tensor: shape=(), dtype=float32, numpy=0.8984819>, <tf.Tensor: shape=(), dtype=float32, numpy=1.2338796>), (<tf.Tensor: shape=(), dtype=float32, numpy=0.92869914>, <tf.Tensor: shape=(), dtype=float32, numpy=1.2353232>), (<tf.Tensor: shape=(), dtype=float32, numpy=0.92827886>, <tf.Tensor: shape=(), dtype=float32, numpy=1.2467461>), (<tf.Tensor: shape=(), dtype=float32, numpy=0.9160692>, <tf.Tensor: shape=(), dtype=float32, numpy=1.2487688>), (<tf.Tensor: shape=(), dtype=float32, numpy=0.8883318>, <tf.Tensor: shape=(), dtype=float32, numpy=1.2742579>), (<tf.Tensor: shape=(), dtype=float32, numpy=0.820166>, <tf.Tensor: shape=(), dtype=float32, numpy=1.3188968>), (<tf.Tensor: shape=(), dtype=float32, numpy=0.9483036>, <tf.Tensor: shape=(), dtype=float32, numpy=1.2372861>), (<tf.Tensor: shape=(), dtype=float32, numpy=0.9016019>, <tf.Tensor: shape=(), dtype=float32, numpy=1.2670912>), (<tf.Tensor: shape=(), dtype=float32, numpy=0.93940765>, <tf.Tensor: shape=(), dtype=float32, numpy=1.2457333>), (<tf.Tensor: shape=(), dtype=float32, numpy=1.0044119>, <tf.Tensor: shape=(), dtype=float32, numpy=1.1957226>), (<tf.Tensor: shape=(), dtype=float32, numpy=0.9124201>, <tf.Tensor: shape=(), dtype=float32, numpy=1.2299429>), (<tf.Tensor: shape=(), dtype=float32, numpy=0.88970065>, <tf.Tensor: shape=(), dtype=float32, numpy=1.2642359>), (<tf.Tensor: shape=(), dtype=float32, numpy=0.89556724>, <tf.Tensor: shape=(), dtype=float32, numpy=1.229247>), (<tf.Tensor: shape=(), dtype=float32, numpy=0.8337661>, <tf.Tensor: shape=(), dtype=float32, numpy=1.2270944>), (<tf.Tensor: shape=(), dtype=float32, numpy=0.8810675>, <tf.Tensor: shape=(), dtype=float32, numpy=1.2874192>), (<tf.Tensor: shape=(), dtype=float32, numpy=0.9091613>, <tf.Tensor: shape=(), dtype=float32, numpy=1.2806723>), (<tf.Tensor: shape=(), dtype=float32, numpy=0.92033833>, <tf.Tensor: shape=(), dtype=float32, numpy=1.228945>), (<tf.Tensor: shape=(), dtype=float32, numpy=0.9069543>, <tf.Tensor: shape=(), dtype=float32, numpy=1.24877>), (<tf.Tensor: shape=(), dtype=float32, numpy=0.84188306>, <tf.Tensor: shape=(), dtype=float32, numpy=1.2567486>), (<tf.Tensor: shape=(), dtype=float32, numpy=0.8408398>, <tf.Tensor: shape=(), dtype=float32, numpy=1.2796782>), (<tf.Tensor: shape=(), dtype=float32, numpy=0.8924874>, <tf.Tensor: shape=(), dtype=float32, numpy=1.2164903>), (<tf.Tensor: shape=(), dtype=float32, numpy=0.9134146>, <tf.Tensor: shape=(), dtype=float32, numpy=1.1929917>), (<tf.Tensor: shape=(), dtype=float32, numpy=0.97604656>, <tf.Tensor: shape=(), dtype=float32, numpy=1.2341223>), (<tf.Tensor: shape=(), dtype=float32, numpy=0.9306438>, <tf.Tensor: shape=(), dtype=float32, numpy=1.1745627>), (<tf.Tensor: shape=(), dtype=float32, numpy=0.87923396>, <tf.Tensor: shape=(), dtype=float32, numpy=1.1707554>), (<tf.Tensor: shape=(), dtype=float32, numpy=0.89976895>, <tf.Tensor: shape=(), dtype=float32, numpy=1.1536224>), (<tf.Tensor: shape=(), dtype=float32, numpy=0.90078354>, <tf.Tensor: shape=(), dtype=float32, numpy=1.1329141>), (<tf.Tensor: shape=(), dtype=float32, numpy=0.97249347>, <tf.Tensor: shape=(), dtype=float32, numpy=1.1261635>), (<tf.Tensor: shape=(), dtype=float32, numpy=1.0440985>, <tf.Tensor: shape=(), dtype=float32, numpy=1.1274345>), (<tf.Tensor: shape=(), dtype=float32, numpy=1.0458018>, <tf.Tensor: shape=(), dtype=float32, numpy=1.1373422>), (<tf.Tensor: shape=(), dtype=float32, numpy=0.91457045>, <tf.Tensor: shape=(), dtype=float32, numpy=1.0743942>), (<tf.Tensor: shape=(), dtype=float32, numpy=0.88250786>, <tf.Tensor: shape=(), dtype=float32, numpy=1.0840386>), (<tf.Tensor: shape=(), dtype=float32, numpy=0.99528956>, <tf.Tensor: shape=(), dtype=float32, numpy=1.0246596>), (<tf.Tensor: shape=(), dtype=float32, numpy=1.0913446>, <tf.Tensor: shape=(), dtype=float32, numpy=1.0320976>), (<tf.Tensor: shape=(), dtype=float32, numpy=1.153139>, <tf.Tensor: shape=(), dtype=float32, numpy=1.0462263>), (<tf.Tensor: shape=(), dtype=float32, numpy=1.1429331>, <tf.Tensor: shape=(), dtype=float32, numpy=1.0534434>), (<tf.Tensor: shape=(), dtype=float32, numpy=1.0873532>, <tf.Tensor: shape=(), dtype=float32, numpy=1.0360706>), (<tf.Tensor: shape=(), dtype=float32, numpy=0.95439714>, <tf.Tensor: shape=(), dtype=float32, numpy=1.0214803>), (<tf.Tensor: shape=(), dtype=float32, numpy=1.0324116>, <tf.Tensor: shape=(), dtype=float32, numpy=0.9760568>), (<tf.Tensor: shape=(), dtype=float32, numpy=1.1166267>, <tf.Tensor: shape=(), dtype=float32, numpy=0.9787426>), (<tf.Tensor: shape=(), dtype=float32, numpy=1.2261297>, <tf.Tensor: shape=(), dtype=float32, numpy=0.9244704>), (<tf.Tensor: shape=(), dtype=float32, numpy=1.2840672>, <tf.Tensor: shape=(), dtype=float32, numpy=0.97258914>), (<tf.Tensor: shape=(), dtype=float32, numpy=1.1856258>, <tf.Tensor: shape=(), dtype=float32, numpy=0.98798335>), (<tf.Tensor: shape=(), dtype=float32, numpy=1.1321433>, <tf.Tensor: shape=(), dtype=float32, numpy=0.9468534>)]\n"
          ]
        },
        {
          "output_type": "error",
          "ename": "KeyboardInterrupt",
          "evalue": "ignored",
          "traceback": [
            "\u001b[0;31m---------------------------------------------------------------------------\u001b[0m",
            "\u001b[0;31mKeyboardInterrupt\u001b[0m                         Traceback (most recent call last)",
            "\u001b[0;32m<ipython-input-28-d152560ca122>\u001b[0m in \u001b[0;36m<module>\u001b[0;34m()\u001b[0m\n\u001b[0;32m----> 1\u001b[0;31m \u001b[0mtrain\u001b[0m\u001b[0;34m(\u001b[0m\u001b[0mtrain_dataset\u001b[0m\u001b[0;34m,\u001b[0m \u001b[0mEPOCHS\u001b[0m\u001b[0;34m)\u001b[0m\u001b[0;34m\u001b[0m\u001b[0;34m\u001b[0m\u001b[0m\n\u001b[0m",
            "\u001b[0;32m<ipython-input-27-370e1c0f39ea>\u001b[0m in \u001b[0;36mtrain\u001b[0;34m(dataset, epochs)\u001b[0m\n\u001b[1;32m     29\u001b[0m \u001b[0;34m\u001b[0m\u001b[0m\n\u001b[1;32m     30\u001b[0m     \u001b[0;32mfor\u001b[0m \u001b[0mimage_batch\u001b[0m \u001b[0;32min\u001b[0m \u001b[0mdataset\u001b[0m\u001b[0;34m:\u001b[0m\u001b[0;34m\u001b[0m\u001b[0;34m\u001b[0m\u001b[0m\n\u001b[0;32m---> 31\u001b[0;31m       \u001b[0mh\u001b[0m \u001b[0;34m=\u001b[0m \u001b[0mtrain_step\u001b[0m\u001b[0;34m(\u001b[0m\u001b[0mimage_batch\u001b[0m\u001b[0;34m)\u001b[0m\u001b[0;34m\u001b[0m\u001b[0;34m\u001b[0m\u001b[0m\n\u001b[0m\u001b[1;32m     32\u001b[0m       \u001b[0mH\u001b[0m\u001b[0;34m.\u001b[0m\u001b[0mappend\u001b[0m\u001b[0;34m(\u001b[0m\u001b[0mh\u001b[0m\u001b[0;34m)\u001b[0m\u001b[0;34m\u001b[0m\u001b[0;34m\u001b[0m\u001b[0m\n\u001b[1;32m     33\u001b[0m \u001b[0;34m\u001b[0m\u001b[0m\n",
            "\u001b[0;32m/usr/local/lib/python3.7/dist-packages/tensorflow/python/util/traceback_utils.py\u001b[0m in \u001b[0;36merror_handler\u001b[0;34m(*args, **kwargs)\u001b[0m\n\u001b[1;32m    148\u001b[0m     \u001b[0mfiltered_tb\u001b[0m \u001b[0;34m=\u001b[0m \u001b[0;32mNone\u001b[0m\u001b[0;34m\u001b[0m\u001b[0;34m\u001b[0m\u001b[0m\n\u001b[1;32m    149\u001b[0m     \u001b[0;32mtry\u001b[0m\u001b[0;34m:\u001b[0m\u001b[0;34m\u001b[0m\u001b[0;34m\u001b[0m\u001b[0m\n\u001b[0;32m--> 150\u001b[0;31m       \u001b[0;32mreturn\u001b[0m \u001b[0mfn\u001b[0m\u001b[0;34m(\u001b[0m\u001b[0;34m*\u001b[0m\u001b[0margs\u001b[0m\u001b[0;34m,\u001b[0m \u001b[0;34m**\u001b[0m\u001b[0mkwargs\u001b[0m\u001b[0;34m)\u001b[0m\u001b[0;34m\u001b[0m\u001b[0;34m\u001b[0m\u001b[0m\n\u001b[0m\u001b[1;32m    151\u001b[0m     \u001b[0;32mexcept\u001b[0m \u001b[0mException\u001b[0m \u001b[0;32mas\u001b[0m \u001b[0me\u001b[0m\u001b[0;34m:\u001b[0m\u001b[0;34m\u001b[0m\u001b[0;34m\u001b[0m\u001b[0m\n\u001b[1;32m    152\u001b[0m       \u001b[0mfiltered_tb\u001b[0m \u001b[0;34m=\u001b[0m \u001b[0m_process_traceback_frames\u001b[0m\u001b[0;34m(\u001b[0m\u001b[0me\u001b[0m\u001b[0;34m.\u001b[0m\u001b[0m__traceback__\u001b[0m\u001b[0;34m)\u001b[0m\u001b[0;34m\u001b[0m\u001b[0;34m\u001b[0m\u001b[0m\n",
            "\u001b[0;32m/usr/local/lib/python3.7/dist-packages/tensorflow/python/eager/def_function.py\u001b[0m in \u001b[0;36m__call__\u001b[0;34m(self, *args, **kwds)\u001b[0m\n\u001b[1;32m    913\u001b[0m \u001b[0;34m\u001b[0m\u001b[0m\n\u001b[1;32m    914\u001b[0m       \u001b[0;32mwith\u001b[0m \u001b[0mOptionalXlaContext\u001b[0m\u001b[0;34m(\u001b[0m\u001b[0mself\u001b[0m\u001b[0;34m.\u001b[0m\u001b[0m_jit_compile\u001b[0m\u001b[0;34m)\u001b[0m\u001b[0;34m:\u001b[0m\u001b[0;34m\u001b[0m\u001b[0;34m\u001b[0m\u001b[0m\n\u001b[0;32m--> 915\u001b[0;31m         \u001b[0mresult\u001b[0m \u001b[0;34m=\u001b[0m \u001b[0mself\u001b[0m\u001b[0;34m.\u001b[0m\u001b[0m_call\u001b[0m\u001b[0;34m(\u001b[0m\u001b[0;34m*\u001b[0m\u001b[0margs\u001b[0m\u001b[0;34m,\u001b[0m \u001b[0;34m**\u001b[0m\u001b[0mkwds\u001b[0m\u001b[0;34m)\u001b[0m\u001b[0;34m\u001b[0m\u001b[0;34m\u001b[0m\u001b[0m\n\u001b[0m\u001b[1;32m    916\u001b[0m \u001b[0;34m\u001b[0m\u001b[0m\n\u001b[1;32m    917\u001b[0m       \u001b[0mnew_tracing_count\u001b[0m \u001b[0;34m=\u001b[0m \u001b[0mself\u001b[0m\u001b[0;34m.\u001b[0m\u001b[0mexperimental_get_tracing_count\u001b[0m\u001b[0;34m(\u001b[0m\u001b[0;34m)\u001b[0m\u001b[0;34m\u001b[0m\u001b[0;34m\u001b[0m\u001b[0m\n",
            "\u001b[0;32m/usr/local/lib/python3.7/dist-packages/tensorflow/python/eager/def_function.py\u001b[0m in \u001b[0;36m_call\u001b[0;34m(self, *args, **kwds)\u001b[0m\n\u001b[1;32m    952\u001b[0m       \u001b[0;31m# In this case we have not created variables on the first call. So we can\u001b[0m\u001b[0;34m\u001b[0m\u001b[0;34m\u001b[0m\u001b[0;34m\u001b[0m\u001b[0m\n\u001b[1;32m    953\u001b[0m       \u001b[0;31m# run the first trace but we should fail if variables are created.\u001b[0m\u001b[0;34m\u001b[0m\u001b[0;34m\u001b[0m\u001b[0;34m\u001b[0m\u001b[0m\n\u001b[0;32m--> 954\u001b[0;31m       \u001b[0mresults\u001b[0m \u001b[0;34m=\u001b[0m \u001b[0mself\u001b[0m\u001b[0;34m.\u001b[0m\u001b[0m_stateful_fn\u001b[0m\u001b[0;34m(\u001b[0m\u001b[0;34m*\u001b[0m\u001b[0margs\u001b[0m\u001b[0;34m,\u001b[0m \u001b[0;34m**\u001b[0m\u001b[0mkwds\u001b[0m\u001b[0;34m)\u001b[0m\u001b[0;34m\u001b[0m\u001b[0;34m\u001b[0m\u001b[0m\n\u001b[0m\u001b[1;32m    955\u001b[0m       \u001b[0;32mif\u001b[0m \u001b[0mself\u001b[0m\u001b[0;34m.\u001b[0m\u001b[0m_created_variables\u001b[0m \u001b[0;32mand\u001b[0m \u001b[0;32mnot\u001b[0m \u001b[0mALLOW_DYNAMIC_VARIABLE_CREATION\u001b[0m\u001b[0;34m:\u001b[0m\u001b[0;34m\u001b[0m\u001b[0;34m\u001b[0m\u001b[0m\n\u001b[1;32m    956\u001b[0m         raise ValueError(\"Creating variables on a non-first call to a function\"\n",
            "\u001b[0;32m/usr/local/lib/python3.7/dist-packages/tensorflow/python/eager/function.py\u001b[0m in \u001b[0;36m__call__\u001b[0;34m(self, *args, **kwargs)\u001b[0m\n\u001b[1;32m   2955\u001b[0m        filtered_flat_args) = self._maybe_define_function(args, kwargs)\n\u001b[1;32m   2956\u001b[0m     return graph_function._call_flat(\n\u001b[0;32m-> 2957\u001b[0;31m         filtered_flat_args, captured_inputs=graph_function.captured_inputs)  # pylint: disable=protected-access\n\u001b[0m\u001b[1;32m   2958\u001b[0m \u001b[0;34m\u001b[0m\u001b[0m\n\u001b[1;32m   2959\u001b[0m   \u001b[0;34m@\u001b[0m\u001b[0mproperty\u001b[0m\u001b[0;34m\u001b[0m\u001b[0;34m\u001b[0m\u001b[0m\n",
            "\u001b[0;32m/usr/local/lib/python3.7/dist-packages/tensorflow/python/eager/function.py\u001b[0m in \u001b[0;36m_call_flat\u001b[0;34m(self, args, captured_inputs, cancellation_manager)\u001b[0m\n\u001b[1;32m   1852\u001b[0m       \u001b[0;31m# No tape is watching; skip to running the function.\u001b[0m\u001b[0;34m\u001b[0m\u001b[0;34m\u001b[0m\u001b[0;34m\u001b[0m\u001b[0m\n\u001b[1;32m   1853\u001b[0m       return self._build_call_outputs(self._inference_function.call(\n\u001b[0;32m-> 1854\u001b[0;31m           ctx, args, cancellation_manager=cancellation_manager))\n\u001b[0m\u001b[1;32m   1855\u001b[0m     forward_backward = self._select_forward_and_backward_functions(\n\u001b[1;32m   1856\u001b[0m         \u001b[0margs\u001b[0m\u001b[0;34m,\u001b[0m\u001b[0;34m\u001b[0m\u001b[0;34m\u001b[0m\u001b[0m\n",
            "\u001b[0;32m/usr/local/lib/python3.7/dist-packages/tensorflow/python/eager/function.py\u001b[0m in \u001b[0;36mcall\u001b[0;34m(self, ctx, args, cancellation_manager)\u001b[0m\n\u001b[1;32m    502\u001b[0m               \u001b[0minputs\u001b[0m\u001b[0;34m=\u001b[0m\u001b[0margs\u001b[0m\u001b[0;34m,\u001b[0m\u001b[0;34m\u001b[0m\u001b[0;34m\u001b[0m\u001b[0m\n\u001b[1;32m    503\u001b[0m               \u001b[0mattrs\u001b[0m\u001b[0;34m=\u001b[0m\u001b[0mattrs\u001b[0m\u001b[0;34m,\u001b[0m\u001b[0;34m\u001b[0m\u001b[0;34m\u001b[0m\u001b[0m\n\u001b[0;32m--> 504\u001b[0;31m               ctx=ctx)\n\u001b[0m\u001b[1;32m    505\u001b[0m         \u001b[0;32melse\u001b[0m\u001b[0;34m:\u001b[0m\u001b[0;34m\u001b[0m\u001b[0;34m\u001b[0m\u001b[0m\n\u001b[1;32m    506\u001b[0m           outputs = execute.execute_with_cancellation(\n",
            "\u001b[0;32m/usr/local/lib/python3.7/dist-packages/tensorflow/python/eager/execute.py\u001b[0m in \u001b[0;36mquick_execute\u001b[0;34m(op_name, num_outputs, inputs, attrs, ctx, name)\u001b[0m\n\u001b[1;32m     53\u001b[0m     \u001b[0mctx\u001b[0m\u001b[0;34m.\u001b[0m\u001b[0mensure_initialized\u001b[0m\u001b[0;34m(\u001b[0m\u001b[0;34m)\u001b[0m\u001b[0;34m\u001b[0m\u001b[0;34m\u001b[0m\u001b[0m\n\u001b[1;32m     54\u001b[0m     tensors = pywrap_tfe.TFE_Py_Execute(ctx._handle, device_name, op_name,\n\u001b[0;32m---> 55\u001b[0;31m                                         inputs, attrs, num_outputs)\n\u001b[0m\u001b[1;32m     56\u001b[0m   \u001b[0;32mexcept\u001b[0m \u001b[0mcore\u001b[0m\u001b[0;34m.\u001b[0m\u001b[0m_NotOkStatusException\u001b[0m \u001b[0;32mas\u001b[0m \u001b[0me\u001b[0m\u001b[0;34m:\u001b[0m\u001b[0;34m\u001b[0m\u001b[0;34m\u001b[0m\u001b[0m\n\u001b[1;32m     57\u001b[0m     \u001b[0;32mif\u001b[0m \u001b[0mname\u001b[0m \u001b[0;32mis\u001b[0m \u001b[0;32mnot\u001b[0m \u001b[0;32mNone\u001b[0m\u001b[0;34m:\u001b[0m\u001b[0;34m\u001b[0m\u001b[0;34m\u001b[0m\u001b[0m\n",
            "\u001b[0;31mKeyboardInterrupt\u001b[0m: "
          ]
        }
      ]
    },
    {
      "cell_type": "code",
      "source": [
        "discriminator.compile(discriminator_optimizer, discriminator_loss)"
      ],
      "metadata": {
        "id": "DkGcCVyaP9mk"
      },
      "execution_count": null,
      "outputs": []
    },
    {
      "cell_type": "code",
      "source": [
        "discriminator.evaluate()"
      ],
      "metadata": {
        "colab": {
          "base_uri": "https://localhost:8080/",
          "height": 311
        },
        "id": "de4KunoXQQju",
        "outputId": "24a6f48d-1bfb-409c-c9f0-566e10fca803"
      },
      "execution_count": null,
      "outputs": [
        {
          "output_type": "error",
          "ename": "ValueError",
          "evalue": "ignored",
          "traceback": [
            "\u001b[0;31m---------------------------------------------------------------------------\u001b[0m",
            "\u001b[0;31mValueError\u001b[0m                                Traceback (most recent call last)",
            "\u001b[0;32m<ipython-input-21-e9f44b81ab2c>\u001b[0m in \u001b[0;36m<module>\u001b[0;34m()\u001b[0m\n\u001b[0;32m----> 1\u001b[0;31m \u001b[0mgenerator\u001b[0m\u001b[0;34m.\u001b[0m\u001b[0mevaluate\u001b[0m\u001b[0;34m(\u001b[0m\u001b[0;34m)\u001b[0m\u001b[0;34m\u001b[0m\u001b[0;34m\u001b[0m\u001b[0m\n\u001b[0m",
            "\u001b[0;32m/usr/local/lib/python3.7/dist-packages/keras/utils/traceback_utils.py\u001b[0m in \u001b[0;36merror_handler\u001b[0;34m(*args, **kwargs)\u001b[0m\n\u001b[1;32m     65\u001b[0m     \u001b[0;32mexcept\u001b[0m \u001b[0mException\u001b[0m \u001b[0;32mas\u001b[0m \u001b[0me\u001b[0m\u001b[0;34m:\u001b[0m  \u001b[0;31m# pylint: disable=broad-except\u001b[0m\u001b[0;34m\u001b[0m\u001b[0;34m\u001b[0m\u001b[0m\n\u001b[1;32m     66\u001b[0m       \u001b[0mfiltered_tb\u001b[0m \u001b[0;34m=\u001b[0m \u001b[0m_process_traceback_frames\u001b[0m\u001b[0;34m(\u001b[0m\u001b[0me\u001b[0m\u001b[0;34m.\u001b[0m\u001b[0m__traceback__\u001b[0m\u001b[0;34m)\u001b[0m\u001b[0;34m\u001b[0m\u001b[0;34m\u001b[0m\u001b[0m\n\u001b[0;32m---> 67\u001b[0;31m       \u001b[0;32mraise\u001b[0m \u001b[0me\u001b[0m\u001b[0;34m.\u001b[0m\u001b[0mwith_traceback\u001b[0m\u001b[0;34m(\u001b[0m\u001b[0mfiltered_tb\u001b[0m\u001b[0;34m)\u001b[0m \u001b[0;32mfrom\u001b[0m \u001b[0;32mNone\u001b[0m\u001b[0;34m\u001b[0m\u001b[0;34m\u001b[0m\u001b[0m\n\u001b[0m\u001b[1;32m     68\u001b[0m     \u001b[0;32mfinally\u001b[0m\u001b[0;34m:\u001b[0m\u001b[0;34m\u001b[0m\u001b[0;34m\u001b[0m\u001b[0m\n\u001b[1;32m     69\u001b[0m       \u001b[0;32mdel\u001b[0m \u001b[0mfiltered_tb\u001b[0m\u001b[0;34m\u001b[0m\u001b[0;34m\u001b[0m\u001b[0m\n",
            "\u001b[0;32m/usr/local/lib/python3.7/dist-packages/keras/engine/data_adapter.py\u001b[0m in \u001b[0;36mselect_data_adapter\u001b[0;34m(x, y)\u001b[0m\n\u001b[1;32m    985\u001b[0m         \u001b[0;34m\"Failed to find data adapter that can handle \"\u001b[0m\u001b[0;34m\u001b[0m\u001b[0;34m\u001b[0m\u001b[0m\n\u001b[1;32m    986\u001b[0m         \"input: {}, {}\".format(\n\u001b[0;32m--> 987\u001b[0;31m             _type_name(x), _type_name(y)))\n\u001b[0m\u001b[1;32m    988\u001b[0m   \u001b[0;32melif\u001b[0m \u001b[0mlen\u001b[0m\u001b[0;34m(\u001b[0m\u001b[0madapter_cls\u001b[0m\u001b[0;34m)\u001b[0m \u001b[0;34m>\u001b[0m \u001b[0;36m1\u001b[0m\u001b[0;34m:\u001b[0m\u001b[0;34m\u001b[0m\u001b[0;34m\u001b[0m\u001b[0m\n\u001b[1;32m    989\u001b[0m     raise RuntimeError(\n",
            "\u001b[0;31mValueError\u001b[0m: Failed to find data adapter that can handle input: <class 'NoneType'>, <class 'NoneType'>"
          ]
        }
      ]
    }
  ]
}